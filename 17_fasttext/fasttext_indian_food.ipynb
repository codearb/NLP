{
  "cells": [
    {
      "cell_type": "markdown",
      "id": "9fc69a91",
      "metadata": {
        "id": "9fc69a91"
      },
      "source": [
        "<h3>Download and explore pre-trained models</h3>"
      ]
    },
    {
      "cell_type": "code",
      "source": [
        "!pip install fasttext"
      ],
      "metadata": {
        "colab": {
          "base_uri": "https://localhost:8080/"
        },
        "id": "SlpoucXWh9Sl",
        "outputId": "3ce545a0-fe9a-4bf4-c51d-f1c5a75c623c"
      },
      "id": "SlpoucXWh9Sl",
      "execution_count": 1,
      "outputs": [
        {
          "output_type": "stream",
          "name": "stdout",
          "text": [
            "Collecting fasttext\n",
            "  Downloading fasttext-0.9.3.tar.gz (73 kB)\n",
            "\u001b[?25l     \u001b[90m━━━━━━━━━━━━━━━━━━━━━━━━━━━━━━━━━━━━━━━━\u001b[0m \u001b[32m0.0/73.4 kB\u001b[0m \u001b[31m?\u001b[0m eta \u001b[36m-:--:--\u001b[0m\r\u001b[2K     \u001b[90m━━━━━━━━━━━━━━━━━━━━━━━━━━━━━━━━━━━━━━━━\u001b[0m \u001b[32m73.4/73.4 kB\u001b[0m \u001b[31m3.3 MB/s\u001b[0m eta \u001b[36m0:00:00\u001b[0m\n",
            "\u001b[?25h  Installing build dependencies ... \u001b[?25l\u001b[?25hdone\n",
            "  Getting requirements to build wheel ... \u001b[?25l\u001b[?25hdone\n",
            "  Preparing metadata (pyproject.toml) ... \u001b[?25l\u001b[?25hdone\n",
            "Collecting pybind11>=2.2 (from fasttext)\n",
            "  Using cached pybind11-2.13.6-py3-none-any.whl.metadata (9.5 kB)\n",
            "Requirement already satisfied: setuptools>=0.7.0 in /usr/local/lib/python3.10/dist-packages (from fasttext) (75.1.0)\n",
            "Requirement already satisfied: numpy in /usr/local/lib/python3.10/dist-packages (from fasttext) (1.26.4)\n",
            "Using cached pybind11-2.13.6-py3-none-any.whl (243 kB)\n",
            "Building wheels for collected packages: fasttext\n",
            "  Building wheel for fasttext (pyproject.toml) ... \u001b[?25l\u001b[?25hdone\n",
            "  Created wheel for fasttext: filename=fasttext-0.9.3-cp310-cp310-linux_x86_64.whl size=4296183 sha256=3c4847cf059a632b92561585f783cbc651e32f0c5823767d6f050fb57597ed12\n",
            "  Stored in directory: /root/.cache/pip/wheels/0d/a2/00/81db54d3e6a8199b829d58e02cec2ddb20ce3e59fad8d3c92a\n",
            "Successfully built fasttext\n",
            "Installing collected packages: pybind11, fasttext\n",
            "Successfully installed fasttext-0.9.3 pybind11-2.13.6\n"
          ]
        }
      ]
    },
    {
      "cell_type": "markdown",
      "id": "801bc8a9",
      "metadata": {
        "id": "801bc8a9"
      },
      "source": [
        "##### (1) Explore English Model"
      ]
    },
    {
      "cell_type": "code",
      "source": [
        "import fasttext.util\n",
        "fasttext.util.download_model('en', if_exists='ignore')"
      ],
      "metadata": {
        "colab": {
          "base_uri": "https://localhost:8080/",
          "height": 70
        },
        "id": "JHVtk66ekxZt",
        "outputId": "60f62ad7-cfef-4c5e-b296-acb28610f832"
      },
      "id": "JHVtk66ekxZt",
      "execution_count": 5,
      "outputs": [
        {
          "output_type": "stream",
          "name": "stdout",
          "text": [
            "Downloading https://dl.fbaipublicfiles.com/fasttext/vectors-crawl/cc.en.300.bin.gz\n",
            "\n"
          ]
        },
        {
          "output_type": "execute_result",
          "data": {
            "text/plain": [
              "'cc.en.300.bin'"
            ],
            "application/vnd.google.colaboratory.intrinsic+json": {
              "type": "string"
            }
          },
          "metadata": {},
          "execution_count": 5
        }
      ]
    },
    {
      "cell_type": "code",
      "execution_count": 6,
      "id": "889e0cc5",
      "metadata": {
        "scrolled": true,
        "colab": {
          "base_uri": "https://localhost:8080/"
        },
        "id": "889e0cc5",
        "outputId": "8ada6d8f-37bf-405c-b060-c4913b20d3f7"
      },
      "outputs": [
        {
          "output_type": "execute_result",
          "data": {
            "text/plain": [
              "[(0.7517593502998352, 'bad'),\n",
              " (0.7426098585128784, 'great'),\n",
              " (0.7299689054489136, 'decent'),\n",
              " (0.7123614549636841, 'nice'),\n",
              " (0.6796907186508179, 'Good'),\n",
              " (0.6737031936645508, 'excellent'),\n",
              " (0.669592022895813, 'goood'),\n",
              " (0.6602178812026978, 'ggod'),\n",
              " (0.6479219794273376, 'semi-good'),\n",
              " (0.6417751908302307, 'good.Good')]"
            ]
          },
          "metadata": {},
          "execution_count": 6
        }
      ],
      "source": [
        "import fasttext\n",
        "\n",
        "model_en = fasttext.load_model('cc.en.300.bin')\n",
        "model_en.get_nearest_neighbors('good')"
      ]
    },
    {
      "cell_type": "code",
      "execution_count": 7,
      "id": "e745e5de",
      "metadata": {
        "colab": {
          "base_uri": "https://localhost:8080/"
        },
        "collapsed": true,
        "id": "e745e5de",
        "outputId": "5c263d48-9368-4d1c-da00-a6206ed88f09"
      },
      "outputs": [
        {
          "output_type": "execute_result",
          "data": {
            "text/plain": [
              "['__class__',\n",
              " '__contains__',\n",
              " '__delattr__',\n",
              " '__dict__',\n",
              " '__dir__',\n",
              " '__doc__',\n",
              " '__eq__',\n",
              " '__format__',\n",
              " '__ge__',\n",
              " '__getattribute__',\n",
              " '__getitem__',\n",
              " '__gt__',\n",
              " '__hash__',\n",
              " '__init__',\n",
              " '__init_subclass__',\n",
              " '__le__',\n",
              " '__lt__',\n",
              " '__module__',\n",
              " '__ne__',\n",
              " '__new__',\n",
              " '__reduce__',\n",
              " '__reduce_ex__',\n",
              " '__repr__',\n",
              " '__setattr__',\n",
              " '__sizeof__',\n",
              " '__str__',\n",
              " '__subclasshook__',\n",
              " '__weakref__',\n",
              " '_labels',\n",
              " '_words',\n",
              " 'f',\n",
              " 'get_analogies',\n",
              " 'get_dimension',\n",
              " 'get_input_matrix',\n",
              " 'get_input_vector',\n",
              " 'get_label_id',\n",
              " 'get_labels',\n",
              " 'get_line',\n",
              " 'get_meter',\n",
              " 'get_nearest_neighbors',\n",
              " 'get_output_matrix',\n",
              " 'get_sentence_vector',\n",
              " 'get_subword_id',\n",
              " 'get_subwords',\n",
              " 'get_word_id',\n",
              " 'get_word_vector',\n",
              " 'get_words',\n",
              " 'is_quantized',\n",
              " 'labels',\n",
              " 'predict',\n",
              " 'quantize',\n",
              " 'save_model',\n",
              " 'set_args',\n",
              " 'set_matrices',\n",
              " 'test',\n",
              " 'test_label',\n",
              " 'words']"
            ]
          },
          "metadata": {},
          "execution_count": 7
        }
      ],
      "source": [
        "dir(model_en)"
      ]
    },
    {
      "cell_type": "code",
      "execution_count": 8,
      "id": "a7a15503",
      "metadata": {
        "colab": {
          "base_uri": "https://localhost:8080/"
        },
        "id": "a7a15503",
        "outputId": "d1399ffc-5c73-43ec-c9c6-0f24442992bd"
      },
      "outputs": [
        {
          "output_type": "execute_result",
          "data": {
            "text/plain": [
              "(300,)"
            ]
          },
          "metadata": {},
          "execution_count": 8
        }
      ],
      "source": [
        "model_en.get_word_vector(\"good\").shape"
      ]
    },
    {
      "cell_type": "code",
      "execution_count": 9,
      "id": "1de3bc3e",
      "metadata": {
        "colab": {
          "base_uri": "https://localhost:8080/"
        },
        "id": "1de3bc3e",
        "outputId": "4614e509-d9aa-4570-c903-b6ebf3ea18e8"
      },
      "outputs": [
        {
          "output_type": "execute_result",
          "data": {
            "text/plain": [
              "[(0.7303731441497803, 'paris'),\n",
              " (0.6408537030220032, 'france.'),\n",
              " (0.6393311023712158, 'avignon'),\n",
              " (0.6316676139831543, 'paris.'),\n",
              " (0.5895596742630005, 'montpellier'),\n",
              " (0.5884554386138916, 'rennes'),\n",
              " (0.5850598812103271, 'grenoble'),\n",
              " (0.5832924246788025, 'london'),\n",
              " (0.5806092619895935, 'strasbourg'),\n",
              " (0.574320375919342, 'Paris.')]"
            ]
          },
          "metadata": {},
          "execution_count": 9
        }
      ],
      "source": [
        "model_en.get_analogies(\"berlin\",\"germany\",\"france\")"
      ]
    },
    {
      "cell_type": "code",
      "execution_count": 10,
      "id": "874ae83b",
      "metadata": {
        "colab": {
          "base_uri": "https://localhost:8080/"
        },
        "id": "874ae83b",
        "outputId": "cba1f1c2-81ad-4c03-cda2-a74b0775e405"
      },
      "outputs": [
        {
          "output_type": "execute_result",
          "data": {
            "text/plain": [
              "[(0.7148876190185547, 'delhi'),\n",
              " (0.6974374055862427, 'mumbai'),\n",
              " (0.648612916469574, 'jaipur'),\n",
              " (0.6349966526031494, 'kolkata'),\n",
              " (0.6279922723770142, 'pune'),\n",
              " (0.6277596354484558, 'bangalore'),\n",
              " (0.6044078469276428, 'hyderabad'),\n",
              " (0.6021745800971985, 'noida'),\n",
              " (0.6018899083137512, 'bhubaneswar'),\n",
              " (0.599077582359314, 'nashik')]"
            ]
          },
          "metadata": {},
          "execution_count": 10
        }
      ],
      "source": [
        "model_en.get_analogies(\"berlin\",\"germany\",\"india\")"
      ]
    },
    {
      "cell_type": "code",
      "execution_count": 11,
      "id": "d617ad0e",
      "metadata": {
        "colab": {
          "base_uri": "https://localhost:8080/"
        },
        "id": "d617ad0e",
        "outputId": "b94940d4-4d4f-4e4a-bf3b-251aaf573a7d"
      },
      "outputs": [
        {
          "output_type": "execute_result",
          "data": {
            "text/plain": [
              "[(0.610385537147522, 'texting'),\n",
              " (0.5203558802604675, 'phone-calling'),\n",
              " (0.5153835415840149, 'cellphone'),\n",
              " (0.5135326981544495, 'cell-phone'),\n",
              " (0.5117910504341125, 'dialing'),\n",
              " (0.5087355971336365, 'texing'),\n",
              " (0.5079342722892761, 'text-messaging'),\n",
              " (0.500900387763977, 'txting'),\n",
              " (0.4960441589355469, 'texting.'),\n",
              " (0.4951859414577484, 'Texting')]"
            ]
          },
          "metadata": {},
          "execution_count": 11
        }
      ],
      "source": [
        "model_en.get_analogies(\"driving\",\"car\",\"phone\")"
      ]
    },
    {
      "cell_type": "code",
      "execution_count": 12,
      "id": "59f8c719",
      "metadata": {
        "colab": {
          "base_uri": "https://localhost:8080/"
        },
        "id": "59f8c719",
        "outputId": "0036d06d-2f25-4720-a3bc-d82cf5aa2a4a"
      },
      "outputs": [
        {
          "output_type": "execute_result",
          "data": {
            "text/plain": [
              "[(0.5302355885505676, 'reading'),\n",
              " (0.517051637172699, 'book.I'),\n",
              " (0.5137901306152344, 'book--and'),\n",
              " (0.5090512633323669, 'book.That'),\n",
              " (0.5005884766578674, 'book--it'),\n",
              " (0.49395182728767395, 'book--I'),\n",
              " (0.49293914437294006, 're-reading'),\n",
              " (0.49156999588012695, 'book.This'),\n",
              " (0.49107635021209717, 'reading--and'),\n",
              " (0.48960915207862854, 'book--the')]"
            ]
          },
          "metadata": {},
          "execution_count": 12
        }
      ],
      "source": [
        "model_en.get_analogies(\"driving\",\"car\",\"book\")"
      ]
    },
    {
      "cell_type": "code",
      "execution_count": 13,
      "id": "a5e98313",
      "metadata": {
        "colab": {
          "base_uri": "https://localhost:8080/"
        },
        "id": "a5e98313",
        "outputId": "ea57fd0f-7546-4103-a417-e48ce97890ac"
      },
      "outputs": [
        {
          "output_type": "execute_result",
          "data": {
            "text/plain": [
              "[(0.8078702092170715, 'chutneys'),\n",
              " (0.7138292789459229, 'thokku'),\n",
              " (0.701572060585022, 'Chutney'),\n",
              " (0.6875490546226501, 'achaar'),\n",
              " (0.684525728225708, 'piccalilli'),\n",
              " (0.6737173199653625, 'raita'),\n",
              " (0.6715506911277771, 'chatni'),\n",
              " (0.6610829830169678, 'chutney.'),\n",
              " (0.6505922675132751, 'gojju'),\n",
              " (0.6398508548736572, 'kasundi')]"
            ]
          },
          "metadata": {},
          "execution_count": 13
        }
      ],
      "source": [
        "model_en.get_nearest_neighbors(\"chutney\")"
      ]
    },
    {
      "cell_type": "code",
      "execution_count": 14,
      "id": "041e928b",
      "metadata": {
        "colab": {
          "base_uri": "https://localhost:8080/"
        },
        "id": "041e928b",
        "outputId": "66c089cf-1546-4316-b970-6fefd89f2c0e"
      },
      "outputs": [
        {
          "output_type": "execute_result",
          "data": {
            "text/plain": [
              "[(0.8563978672027588, 'kheer'),\n",
              " (0.8392286896705627, 'burfi'),\n",
              " (0.8193163871765137, 'Halwa'),\n",
              " (0.7894062995910645, 'kesari'),\n",
              " (0.778471827507019, 'payasam'),\n",
              " (0.7706475853919983, 'burfis'),\n",
              " (0.7590622901916504, 'laddoo'),\n",
              " (0.7504664659500122, 'ladoo'),\n",
              " (0.7471016645431519, 'rabdi'),\n",
              " (0.7396334409713745, 'laddu')]"
            ]
          },
          "metadata": {},
          "execution_count": 14
        }
      ],
      "source": [
        "model_en.get_nearest_neighbors(\"halwa\")"
      ]
    },
    {
      "cell_type": "code",
      "execution_count": 15,
      "id": "66f816ba",
      "metadata": {
        "scrolled": false,
        "colab": {
          "base_uri": "https://localhost:8080/"
        },
        "id": "66f816ba",
        "outputId": "59d2b944-531d-421d-bd23-159649eb113b"
      },
      "outputs": [
        {
          "output_type": "execute_result",
          "data": {
            "text/plain": [
              "[(0.5384978652000427,\n",
              "  'ReportsTabloidCrimeYakuzaTokyoGinzaIkebukuroKabukichoRoppongiShibuyaShimbashiShinjukuUenoJapanChibaFukuokaKobeKyotoNagoyaOkinawaOsakaSaitamaYokohamaSportsBaseballHorse'),\n",
              " (0.5373231768608093,\n",
              "  'NoidaVaranasiBareillyMathuraAligarhMoradabadSaharanpurBijnorJaunpurGorakhpurMuzaffarnagarSultanpurDehradunHaridwarNainitalRoorkeeGarhwalBardhamanMurshidabadHooghlyMedinipurNorth'),\n",
              " (0.5331498980522156,\n",
              "  'NagarBhiwaniKarnalKurukshetraMahendragarhSirsaPanipatJindJhajjarRewariSolanShimlaKangraHamirpurMandiJammuSrinagarRanchiJamshedpurMangaloreMysoreBelgaumGulbargaTumkurBijapurDavanagereDharwadShimogaUdupiHassanBidarHubliKolarBagalkotKannadaChitradurgaMandyaGadagBellaryRaichurThiruvananthapuramThrissurErnakulamMalappuramKochiKottayamKannurKozhikodeKollamPalakkadPathanamthittaCalicutTrivandrumAlappuzhaKasaragodBhopalIndoreGwaliorJabalpurUjjainSagarChhatarpurPuneNagpurAurangabadNashikKolhapurAhmed')]"
            ]
          },
          "metadata": {},
          "execution_count": 15
        }
      ],
      "source": [
        "model_en.get_nearest_neighbors(\"saragva\", k=3)"
      ]
    },
    {
      "cell_type": "markdown",
      "id": "186c9e7b",
      "metadata": {
        "id": "186c9e7b"
      },
      "source": [
        "##### (2) Explore Hindi Model"
      ]
    },
    {
      "cell_type": "code",
      "source": [
        "fasttext.util.download_model('hi', if_exists='ignore')"
      ],
      "metadata": {
        "colab": {
          "base_uri": "https://localhost:8080/",
          "height": 70
        },
        "id": "57XveRniuOeo",
        "outputId": "eb76a63d-7140-4ac4-82df-37d17c26ce79"
      },
      "id": "57XveRniuOeo",
      "execution_count": 16,
      "outputs": [
        {
          "output_type": "stream",
          "name": "stdout",
          "text": [
            "Downloading https://dl.fbaipublicfiles.com/fasttext/vectors-crawl/cc.hi.300.bin.gz\n",
            "\n"
          ]
        },
        {
          "output_type": "execute_result",
          "data": {
            "text/plain": [
              "'cc.hi.300.bin'"
            ],
            "application/vnd.google.colaboratory.intrinsic+json": {
              "type": "string"
            }
          },
          "metadata": {},
          "execution_count": 16
        }
      ]
    },
    {
      "cell_type": "code",
      "execution_count": 3,
      "id": "01b14f4c",
      "metadata": {
        "id": "01b14f4c"
      },
      "outputs": [],
      "source": [
        "import fasttext\n",
        "\n",
        "model_hi = fasttext.load_model('cc.hi.300.bin')"
      ]
    },
    {
      "cell_type": "code",
      "execution_count": 4,
      "id": "673e0e80",
      "metadata": {
        "colab": {
          "base_uri": "https://localhost:8080/"
        },
        "id": "673e0e80",
        "outputId": "263e8acd-9128-4a76-ec94-97c8ad8cc4d2"
      },
      "outputs": [
        {
          "output_type": "execute_result",
          "data": {
            "text/plain": [
              "[(0.6697985529899597, 'बुरा'),\n",
              " (0.6132625341415405, 'अच्छे'),\n",
              " (0.608695387840271, 'अच्चा'),\n",
              " (0.6058669090270996, 'अच्छाखासा'),\n",
              " (0.5848375558853149, 'कीअच्छा'),\n",
              " (0.5826330184936523, 'औरअच्छा'),\n",
              " (0.5811230540275574, 'हो.अच्छा'),\n",
              " (0.5805407762527466, 'हीअच्छा'),\n",
              " (0.5795978307723999, 'लगता'),\n",
              " (0.5777745246887207, '58अच्छा')]"
            ]
          },
          "metadata": {},
          "execution_count": 4
        }
      ],
      "source": [
        "model_hi.get_nearest_neighbors(\"अच्छा\")"
      ]
    },
    {
      "cell_type": "code",
      "execution_count": 5,
      "id": "921d7fcd",
      "metadata": {
        "colab": {
          "base_uri": "https://localhost:8080/"
        },
        "id": "921d7fcd",
        "outputId": "c8a5d533-26c8-4e0a-ae47-b6b8ce3e0275"
      },
      "outputs": [
        {
          "output_type": "execute_result",
          "data": {
            "text/plain": [
              "[(0.6485272645950317, 'गायों'),\n",
              " (0.6403631567955017, 'गोमाता'),\n",
              " (0.6264104247093201, 'बछड़े'),\n",
              " (0.6045769453048706, 'बछडे'),\n",
              " (0.6030024886131287, 'दुधारु'),\n",
              " (0.5880257487297058, 'भेंस'),\n",
              " (0.5822192430496216, 'भैंस'),\n",
              " (0.5819100737571716, 'दुधारू'),\n",
              " (0.5773836970329285, 'गौमाता'),\n",
              " (0.5771614909172058, 'गायें')]"
            ]
          },
          "metadata": {},
          "execution_count": 5
        }
      ],
      "source": [
        "model_hi.get_nearest_neighbors(\"गाय\")"
      ]
    },
    {
      "cell_type": "markdown",
      "id": "b287e393",
      "metadata": {
        "id": "b287e393"
      },
      "source": [
        "## Custom train word embeddings on indian food receipes 😋\n",
        "\n",
        "dataset credits: https://www.kaggle.com/datasets/sooryaprakash12/cleaned-indian-recipes-dataset"
      ]
    },
    {
      "cell_type": "code",
      "execution_count": 6,
      "id": "2630f62a",
      "metadata": {
        "colab": {
          "base_uri": "https://localhost:8080/",
          "height": 319
        },
        "id": "2630f62a",
        "outputId": "e9a41b4b-92ea-4537-a921-5322de2c3563"
      },
      "outputs": [
        {
          "output_type": "stream",
          "name": "stdout",
          "text": [
            "(5938, 9)\n"
          ]
        },
        {
          "output_type": "execute_result",
          "data": {
            "text/plain": [
              "                                TranslatedRecipeName  \\\n",
              "0                               Masala Karela Recipe   \n",
              "1                         Spicy Tomato Rice (Recipe)   \n",
              "2  Ragi Semiya Upma Recipe - Ragi Millet Vermicel...   \n",
              "\n",
              "                               TranslatedIngredients  TotalTimeInMins  \\\n",
              "0  1 tablespoon Red Chilli powder,3 tablespoon Gr...               45   \n",
              "1   2 teaspoon cashew - or peanuts, 1/2 Teaspoon ...               15   \n",
              "2  1 Onion - sliced,1 teaspoon White Urad Dal (Sp...               50   \n",
              "\n",
              "                Cuisine                             TranslatedInstructions  \\\n",
              "0                Indian  To begin making the Masala Karela Recipe,de-se...   \n",
              "1  South Indian Recipes  To make tomato puliogere, first cut the tomato...   \n",
              "2  South Indian Recipes  To begin making the Ragi Vermicelli Recipe, fi...   \n",
              "\n",
              "                                                 URL  \\\n",
              "0  https://www.archanaskitchen.com/masala-karela-...   \n",
              "1  https://www.archanaskitchen.com/spicy-tomato-r...   \n",
              "2  https://www.archanaskitchen.com/ragi-vermicell...   \n",
              "\n",
              "                                 Cleaned-Ingredients  \\\n",
              "0  salt,amchur (dry mango powder),karela (bitter ...   \n",
              "1  tomato,salt,chickpea lentils,green chilli,rice...   \n",
              "2  salt,rice vermicelli noodles (thin),asafoetida...   \n",
              "\n",
              "                                           image-url  Ingredient-count  \n",
              "0  https://www.archanaskitchen.com/images/archana...                10  \n",
              "1  https://www.archanaskitchen.com/images/archana...                12  \n",
              "2  https://www.archanaskitchen.com/images/archana...                12  "
            ],
            "text/html": [
              "\n",
              "  <div id=\"df-e606d579-83bc-4fd7-aafc-18a41a17a64c\" class=\"colab-df-container\">\n",
              "    <div>\n",
              "<style scoped>\n",
              "    .dataframe tbody tr th:only-of-type {\n",
              "        vertical-align: middle;\n",
              "    }\n",
              "\n",
              "    .dataframe tbody tr th {\n",
              "        vertical-align: top;\n",
              "    }\n",
              "\n",
              "    .dataframe thead th {\n",
              "        text-align: right;\n",
              "    }\n",
              "</style>\n",
              "<table border=\"1\" class=\"dataframe\">\n",
              "  <thead>\n",
              "    <tr style=\"text-align: right;\">\n",
              "      <th></th>\n",
              "      <th>TranslatedRecipeName</th>\n",
              "      <th>TranslatedIngredients</th>\n",
              "      <th>TotalTimeInMins</th>\n",
              "      <th>Cuisine</th>\n",
              "      <th>TranslatedInstructions</th>\n",
              "      <th>URL</th>\n",
              "      <th>Cleaned-Ingredients</th>\n",
              "      <th>image-url</th>\n",
              "      <th>Ingredient-count</th>\n",
              "    </tr>\n",
              "  </thead>\n",
              "  <tbody>\n",
              "    <tr>\n",
              "      <th>0</th>\n",
              "      <td>Masala Karela Recipe</td>\n",
              "      <td>1 tablespoon Red Chilli powder,3 tablespoon Gr...</td>\n",
              "      <td>45</td>\n",
              "      <td>Indian</td>\n",
              "      <td>To begin making the Masala Karela Recipe,de-se...</td>\n",
              "      <td>https://www.archanaskitchen.com/masala-karela-...</td>\n",
              "      <td>salt,amchur (dry mango powder),karela (bitter ...</td>\n",
              "      <td>https://www.archanaskitchen.com/images/archana...</td>\n",
              "      <td>10</td>\n",
              "    </tr>\n",
              "    <tr>\n",
              "      <th>1</th>\n",
              "      <td>Spicy Tomato Rice (Recipe)</td>\n",
              "      <td>2 teaspoon cashew - or peanuts, 1/2 Teaspoon ...</td>\n",
              "      <td>15</td>\n",
              "      <td>South Indian Recipes</td>\n",
              "      <td>To make tomato puliogere, first cut the tomato...</td>\n",
              "      <td>https://www.archanaskitchen.com/spicy-tomato-r...</td>\n",
              "      <td>tomato,salt,chickpea lentils,green chilli,rice...</td>\n",
              "      <td>https://www.archanaskitchen.com/images/archana...</td>\n",
              "      <td>12</td>\n",
              "    </tr>\n",
              "    <tr>\n",
              "      <th>2</th>\n",
              "      <td>Ragi Semiya Upma Recipe - Ragi Millet Vermicel...</td>\n",
              "      <td>1 Onion - sliced,1 teaspoon White Urad Dal (Sp...</td>\n",
              "      <td>50</td>\n",
              "      <td>South Indian Recipes</td>\n",
              "      <td>To begin making the Ragi Vermicelli Recipe, fi...</td>\n",
              "      <td>https://www.archanaskitchen.com/ragi-vermicell...</td>\n",
              "      <td>salt,rice vermicelli noodles (thin),asafoetida...</td>\n",
              "      <td>https://www.archanaskitchen.com/images/archana...</td>\n",
              "      <td>12</td>\n",
              "    </tr>\n",
              "  </tbody>\n",
              "</table>\n",
              "</div>\n",
              "    <div class=\"colab-df-buttons\">\n",
              "\n",
              "  <div class=\"colab-df-container\">\n",
              "    <button class=\"colab-df-convert\" onclick=\"convertToInteractive('df-e606d579-83bc-4fd7-aafc-18a41a17a64c')\"\n",
              "            title=\"Convert this dataframe to an interactive table.\"\n",
              "            style=\"display:none;\">\n",
              "\n",
              "  <svg xmlns=\"http://www.w3.org/2000/svg\" height=\"24px\" viewBox=\"0 -960 960 960\">\n",
              "    <path d=\"M120-120v-720h720v720H120Zm60-500h600v-160H180v160Zm220 220h160v-160H400v160Zm0 220h160v-160H400v160ZM180-400h160v-160H180v160Zm440 0h160v-160H620v160ZM180-180h160v-160H180v160Zm440 0h160v-160H620v160Z\"/>\n",
              "  </svg>\n",
              "    </button>\n",
              "\n",
              "  <style>\n",
              "    .colab-df-container {\n",
              "      display:flex;\n",
              "      gap: 12px;\n",
              "    }\n",
              "\n",
              "    .colab-df-convert {\n",
              "      background-color: #E8F0FE;\n",
              "      border: none;\n",
              "      border-radius: 50%;\n",
              "      cursor: pointer;\n",
              "      display: none;\n",
              "      fill: #1967D2;\n",
              "      height: 32px;\n",
              "      padding: 0 0 0 0;\n",
              "      width: 32px;\n",
              "    }\n",
              "\n",
              "    .colab-df-convert:hover {\n",
              "      background-color: #E2EBFA;\n",
              "      box-shadow: 0px 1px 2px rgba(60, 64, 67, 0.3), 0px 1px 3px 1px rgba(60, 64, 67, 0.15);\n",
              "      fill: #174EA6;\n",
              "    }\n",
              "\n",
              "    .colab-df-buttons div {\n",
              "      margin-bottom: 4px;\n",
              "    }\n",
              "\n",
              "    [theme=dark] .colab-df-convert {\n",
              "      background-color: #3B4455;\n",
              "      fill: #D2E3FC;\n",
              "    }\n",
              "\n",
              "    [theme=dark] .colab-df-convert:hover {\n",
              "      background-color: #434B5C;\n",
              "      box-shadow: 0px 1px 3px 1px rgba(0, 0, 0, 0.15);\n",
              "      filter: drop-shadow(0px 1px 2px rgba(0, 0, 0, 0.3));\n",
              "      fill: #FFFFFF;\n",
              "    }\n",
              "  </style>\n",
              "\n",
              "    <script>\n",
              "      const buttonEl =\n",
              "        document.querySelector('#df-e606d579-83bc-4fd7-aafc-18a41a17a64c button.colab-df-convert');\n",
              "      buttonEl.style.display =\n",
              "        google.colab.kernel.accessAllowed ? 'block' : 'none';\n",
              "\n",
              "      async function convertToInteractive(key) {\n",
              "        const element = document.querySelector('#df-e606d579-83bc-4fd7-aafc-18a41a17a64c');\n",
              "        const dataTable =\n",
              "          await google.colab.kernel.invokeFunction('convertToInteractive',\n",
              "                                                    [key], {});\n",
              "        if (!dataTable) return;\n",
              "\n",
              "        const docLinkHtml = 'Like what you see? Visit the ' +\n",
              "          '<a target=\"_blank\" href=https://colab.research.google.com/notebooks/data_table.ipynb>data table notebook</a>'\n",
              "          + ' to learn more about interactive tables.';\n",
              "        element.innerHTML = '';\n",
              "        dataTable['output_type'] = 'display_data';\n",
              "        await google.colab.output.renderOutput(dataTable, element);\n",
              "        const docLink = document.createElement('div');\n",
              "        docLink.innerHTML = docLinkHtml;\n",
              "        element.appendChild(docLink);\n",
              "      }\n",
              "    </script>\n",
              "  </div>\n",
              "\n",
              "\n",
              "<div id=\"df-c4939967-44ed-4d20-b825-e987c5bf5b91\">\n",
              "  <button class=\"colab-df-quickchart\" onclick=\"quickchart('df-c4939967-44ed-4d20-b825-e987c5bf5b91')\"\n",
              "            title=\"Suggest charts\"\n",
              "            style=\"display:none;\">\n",
              "\n",
              "<svg xmlns=\"http://www.w3.org/2000/svg\" height=\"24px\"viewBox=\"0 0 24 24\"\n",
              "     width=\"24px\">\n",
              "    <g>\n",
              "        <path d=\"M19 3H5c-1.1 0-2 .9-2 2v14c0 1.1.9 2 2 2h14c1.1 0 2-.9 2-2V5c0-1.1-.9-2-2-2zM9 17H7v-7h2v7zm4 0h-2V7h2v10zm4 0h-2v-4h2v4z\"/>\n",
              "    </g>\n",
              "</svg>\n",
              "  </button>\n",
              "\n",
              "<style>\n",
              "  .colab-df-quickchart {\n",
              "      --bg-color: #E8F0FE;\n",
              "      --fill-color: #1967D2;\n",
              "      --hover-bg-color: #E2EBFA;\n",
              "      --hover-fill-color: #174EA6;\n",
              "      --disabled-fill-color: #AAA;\n",
              "      --disabled-bg-color: #DDD;\n",
              "  }\n",
              "\n",
              "  [theme=dark] .colab-df-quickchart {\n",
              "      --bg-color: #3B4455;\n",
              "      --fill-color: #D2E3FC;\n",
              "      --hover-bg-color: #434B5C;\n",
              "      --hover-fill-color: #FFFFFF;\n",
              "      --disabled-bg-color: #3B4455;\n",
              "      --disabled-fill-color: #666;\n",
              "  }\n",
              "\n",
              "  .colab-df-quickchart {\n",
              "    background-color: var(--bg-color);\n",
              "    border: none;\n",
              "    border-radius: 50%;\n",
              "    cursor: pointer;\n",
              "    display: none;\n",
              "    fill: var(--fill-color);\n",
              "    height: 32px;\n",
              "    padding: 0;\n",
              "    width: 32px;\n",
              "  }\n",
              "\n",
              "  .colab-df-quickchart:hover {\n",
              "    background-color: var(--hover-bg-color);\n",
              "    box-shadow: 0 1px 2px rgba(60, 64, 67, 0.3), 0 1px 3px 1px rgba(60, 64, 67, 0.15);\n",
              "    fill: var(--button-hover-fill-color);\n",
              "  }\n",
              "\n",
              "  .colab-df-quickchart-complete:disabled,\n",
              "  .colab-df-quickchart-complete:disabled:hover {\n",
              "    background-color: var(--disabled-bg-color);\n",
              "    fill: var(--disabled-fill-color);\n",
              "    box-shadow: none;\n",
              "  }\n",
              "\n",
              "  .colab-df-spinner {\n",
              "    border: 2px solid var(--fill-color);\n",
              "    border-color: transparent;\n",
              "    border-bottom-color: var(--fill-color);\n",
              "    animation:\n",
              "      spin 1s steps(1) infinite;\n",
              "  }\n",
              "\n",
              "  @keyframes spin {\n",
              "    0% {\n",
              "      border-color: transparent;\n",
              "      border-bottom-color: var(--fill-color);\n",
              "      border-left-color: var(--fill-color);\n",
              "    }\n",
              "    20% {\n",
              "      border-color: transparent;\n",
              "      border-left-color: var(--fill-color);\n",
              "      border-top-color: var(--fill-color);\n",
              "    }\n",
              "    30% {\n",
              "      border-color: transparent;\n",
              "      border-left-color: var(--fill-color);\n",
              "      border-top-color: var(--fill-color);\n",
              "      border-right-color: var(--fill-color);\n",
              "    }\n",
              "    40% {\n",
              "      border-color: transparent;\n",
              "      border-right-color: var(--fill-color);\n",
              "      border-top-color: var(--fill-color);\n",
              "    }\n",
              "    60% {\n",
              "      border-color: transparent;\n",
              "      border-right-color: var(--fill-color);\n",
              "    }\n",
              "    80% {\n",
              "      border-color: transparent;\n",
              "      border-right-color: var(--fill-color);\n",
              "      border-bottom-color: var(--fill-color);\n",
              "    }\n",
              "    90% {\n",
              "      border-color: transparent;\n",
              "      border-bottom-color: var(--fill-color);\n",
              "    }\n",
              "  }\n",
              "</style>\n",
              "\n",
              "  <script>\n",
              "    async function quickchart(key) {\n",
              "      const quickchartButtonEl =\n",
              "        document.querySelector('#' + key + ' button');\n",
              "      quickchartButtonEl.disabled = true;  // To prevent multiple clicks.\n",
              "      quickchartButtonEl.classList.add('colab-df-spinner');\n",
              "      try {\n",
              "        const charts = await google.colab.kernel.invokeFunction(\n",
              "            'suggestCharts', [key], {});\n",
              "      } catch (error) {\n",
              "        console.error('Error during call to suggestCharts:', error);\n",
              "      }\n",
              "      quickchartButtonEl.classList.remove('colab-df-spinner');\n",
              "      quickchartButtonEl.classList.add('colab-df-quickchart-complete');\n",
              "    }\n",
              "    (() => {\n",
              "      let quickchartButtonEl =\n",
              "        document.querySelector('#df-c4939967-44ed-4d20-b825-e987c5bf5b91 button');\n",
              "      quickchartButtonEl.style.display =\n",
              "        google.colab.kernel.accessAllowed ? 'block' : 'none';\n",
              "    })();\n",
              "  </script>\n",
              "</div>\n",
              "\n",
              "    </div>\n",
              "  </div>\n"
            ],
            "application/vnd.google.colaboratory.intrinsic+json": {
              "type": "dataframe",
              "variable_name": "df",
              "summary": "{\n  \"name\": \"df\",\n  \"rows\": 5938,\n  \"fields\": [\n    {\n      \"column\": \"TranslatedRecipeName\",\n      \"properties\": {\n        \"dtype\": \"string\",\n        \"num_unique_values\": 5928,\n        \"samples\": [\n          \"Moong Dal Methi Ki Sabzi (Recipe in Hindi)\",\n          \"Corn And Bell Pepper Sandwich Recipe\",\n          \"Savoury Yogurt Parfait Recipe\"\n        ],\n        \"semantic_type\": \"\",\n        \"description\": \"\"\n      }\n    },\n    {\n      \"column\": \"TranslatedIngredients\",\n      \"properties\": {\n        \"dtype\": \"string\",\n        \"num_unique_values\": 5934,\n        \"samples\": [\n          \"1/2 cup Cranberries,1 tablespoon Brown Sugar (Demerara Sugar),1 teaspoon Baking powder,1 tablespoon Cranberries,1-1/2 cups Whole Wheat Flour,1 teaspoon Vanilla Extract,3/4 cup Coconut Sugar,1 tablespoon Lemon zest,1/2 cup Buttermilk,2 Whole Eggs - or 2 flax eggs,1 tablespoon Corn flakes - or meuseli\",\n          \"Salt - as required,Sunflower Oil - as required,1 Green Chilli,1 teaspoon Cumin seeds (Jeera),Coriander (Dhania) Leaves - small bunch,1 Onion,1/2 cup Chana dal (Bengal Gram Dal),1/2 teaspoon Red Chilli powder,6 cloves Garlic\",\n          \"Salt - as required,2 sprig Coriander (Dhania) Leaves - finely chopped,1 inch Ginger - chopped,1/2 teaspoon Coriander Powder (Dhania),1 tablespoon Kasuri Methi (Dried Fenugreek Leaves),3 Papad,1/2 cup Curd (Dahi / Yogurt) - whisked,1 Green Chilli - chopped,1/2 teaspoon Red Chilli powder,1 tablespoon Ghee,1/4 teaspoon Asafoetida (hing),3 cloves Garlic,1/2 teaspoon Cumin (Jeera) seeds,1/4 teaspoon Turmeric powder (Haldi),2 Tomato - pureed\"\n        ],\n        \"semantic_type\": \"\",\n        \"description\": \"\"\n      }\n    },\n    {\n      \"column\": \"TotalTimeInMins\",\n      \"properties\": {\n        \"dtype\": \"number\",\n        \"std\": 86,\n        \"min\": 0,\n        \"max\": 2925,\n        \"num_unique_values\": 161,\n        \"samples\": [\n          400,\n          62,\n          215\n        ],\n        \"semantic_type\": \"\",\n        \"description\": \"\"\n      }\n    },\n    {\n      \"column\": \"Cuisine\",\n      \"properties\": {\n        \"dtype\": \"category\",\n        \"num_unique_values\": 82,\n        \"samples\": [\n          \"Goan Recipes\",\n          \"Indian\",\n          \"Middle Eastern\"\n        ],\n        \"semantic_type\": \"\",\n        \"description\": \"\"\n      }\n    },\n    {\n      \"column\": \"TranslatedInstructions\",\n      \"properties\": {\n        \"dtype\": \"string\",\n        \"num_unique_values\": 5937,\n        \"samples\": [\n          \"To begin making the Szechuan Style Chinese Samosa recipe, first prep all the ingredients and keep them ready.\\nWe will make the dough first and then fill them and proceed to deep fry the Chinese veg samosa in pure olive oil.To begin making the dough for the samosa crust, combine all the ingredients for the dough in a large mixing bowl.\\nRub the olive oil into the flour till you see coarse crumbs.Add  little water at a time and knead to make a firm and yet smooth dough.\\nCover the dough and keep it aside to rest while we prepare the Chinese filling.For the stuffing, heat olive oil in a wok or a heavy bottomed pan.\\nAdd the ginger, garlic, green chilies and spring onions and stir fry for a few seconds until you can smell the aromas coming through.Add the carrots, beans, capsicum and cabbage and stir fry on high heat until it is cooked through.\\nThe vegetables will be cooked yet firm.Once done, add the cooked noodles, that are roughly chopped, the chili sauce, salt and pepper.\\nStir together until the filling is combined with all the ingredients.\\nCheck the taste and adjust the salt and chili.Turn off the heat and keep the filling aside to cool.Preheat the oil for deep frying the samosaDivide the samosa dough into 12 equal portions.\\nDust it in a little flour and roll into a small square.Place a small portion of the Chinese filling into the rolled out dough.\\nAt this stage you can fold it like a wonton by bringing the edges together.\\nSeal the edges by pinching them well, so it gives a shape and stands out.Proceed the same way to make similar Szechuan Style Chinese Samosas.\\nPlace the Chinese Samosas in oil and deep fry them until crisp and golden brown.Once done, remove the Szechuan Style Chinese Samosas from the oven and serve.Serve the Veg Chinese Samosa along with a Schezwan sauce as an appetizer or a evening tea time snack for parties.\\n\",\n          \"To begin making the Mixed Vegetable Noodle Cutlet Recipe, Cook your instant noodles without the tastemaker according the instructions on the packet.\\n Once the noodles are cooked, drain any extra water and set the noodles aside to cool.In a large bowl, mash the boiled potato and mix with grated carrots and capsicum.\\nAdd, the cooked noodles and all the remaining cutlet ingredients except the crumbs and the oat bran and combine well.\\nCheck the salt and spices and adjust to suit your taste.Divide the cutlet mixture into equal parts and shape them into round discs of about an inch thickness.Combine the breadcrumbs and oat bran in a platter.\\nDip the vegetable noodle cutlet on the crumb-bran mixture.\\nHeat a skillet on medium heat and place the shaped noodle cutlets on them.\\nDrizzle a bit of oil over the cutlets and pan fry them until brown and crisp on both sides.Serve the Mixed Vegetable Noodle Cutlet Recipe as an appetizer, a tea time snack or even into the snack box for kids.\\nServe it along with a classic tomato ketchup or even a Yogurt Dip.\\n\",\n          \"To begin making the Gajar Shalgam Ka Paani Wala Achar recipe, cut vegetables into thick slices and wash it nicely.Add 1-1/2 cups of water and the vegetables in a pressure cooker and pressure cook for 1 whistle.Turn off the heat and allow the steam to release naturally.Once the steam is completely released, transfer the vegetables along with the water into a pan and keep aside.In a separate pan, dry roast mustard seeds, cumin and fennel along with some fenugreek seeds and crush them partially using a mortar pestle.Add vinegar, salt and the crushed spices to the cooked turnip and carrot and stir nicely.\\nGive a gentle boil and turn off the heat.Allow the pickle to cool down completely and later transfer it in a jar or any container and store in fridge.Serve Gajar Shalgam Ka Paani Wala Achar with Whole Wheat Lachha Paratha, Gajar Paratha or any other stuffed paratha for breakfast or dinner.\"\n        ],\n        \"semantic_type\": \"\",\n        \"description\": \"\"\n      }\n    },\n    {\n      \"column\": \"URL\",\n      \"properties\": {\n        \"dtype\": \"string\",\n        \"num_unique_values\": 5938,\n        \"samples\": [\n          \"https://www.archanaskitchen.com/spicy-thai-style-tofu-with-quinoa-recipe\",\n          \"https://www.archanaskitchen.com/mango-pickle-andhra-avakaya-recipe\",\n          \"https://www.archanaskitchen.com/chicken-65-recipe\"\n        ],\n        \"semantic_type\": \"\",\n        \"description\": \"\"\n      }\n    },\n    {\n      \"column\": \"Cleaned-Ingredients\",\n      \"properties\": {\n        \"dtype\": \"string\",\n        \"num_unique_values\": 5932,\n        \"samples\": [\n          \"coconut sugar,baking powder,wheat flour,cranberries,vanilla,lemon,brown sugar (demerara sugar),buttermilk,eggs flax eggs,corn flakes meuseli\",\n          \"coriander (dhania),salt,green chilli,red chilli powder,cloves garlic,onion,cumin seeds (jeera),chana dal (bengal gram dal),sunflower oil\",\n          \"salt,ginger,arhar dal (split toor dal),tamarind water,mustard seeds,brinjal (baingan eggsplant),coconut,jaggery,curry leaves,white urad dal (split),coriander (dhania) seeds,dry red chillies,black pepper powder,boiled peanuts,turmeric powder,chana dal (bengal gram dal),sunflower oil\"\n        ],\n        \"semantic_type\": \"\",\n        \"description\": \"\"\n      }\n    },\n    {\n      \"column\": \"image-url\",\n      \"properties\": {\n        \"dtype\": \"string\",\n        \"num_unique_values\": 5653,\n        \"samples\": [\n          \"https://www.archanaskitchen.com/images/archanaskitchen/1-Author/Smitha_Kalluraya/menthe-hittu-recipe-roasted-fenugreek-powder.jpg\",\n          \"https://www.archanaskitchen.com/images/archanaskitchen/1-Author/Lubna_Karim/BesanOats_Ladoo.jpg\",\n          \"https://www.archanaskitchen.com/images/archanaskitchen/1-Author/Roop/Dalia_Khichdi_Recipe_Broken_Wheat_Khichdi-1_preview.jpeg\"\n        ],\n        \"semantic_type\": \"\",\n        \"description\": \"\"\n      }\n    },\n    {\n      \"column\": \"Ingredient-count\",\n      \"properties\": {\n        \"dtype\": \"number\",\n        \"std\": 4,\n        \"min\": 3,\n        \"max\": 34,\n        \"num_unique_values\": 29,\n        \"samples\": [\n          32,\n          24,\n          20\n        ],\n        \"semantic_type\": \"\",\n        \"description\": \"\"\n      }\n    }\n  ]\n}"
            }
          },
          "metadata": {},
          "execution_count": 6
        }
      ],
      "source": [
        "import pandas as pd\n",
        "\n",
        "df = pd.read_csv(\"Cleaned_Indian_Food_Dataset.csv\")\n",
        "print(df.shape)\n",
        "df.head(3)"
      ]
    },
    {
      "cell_type": "code",
      "execution_count": 7,
      "id": "7ff79015",
      "metadata": {
        "colab": {
          "base_uri": "https://localhost:8080/",
          "height": 139
        },
        "id": "7ff79015",
        "outputId": "c996924f-ad03-47e6-fb9d-bfa77e101a11"
      },
      "outputs": [
        {
          "output_type": "execute_result",
          "data": {
            "text/plain": [
              "'To begin making the Masala Karela Recipe,de-seed the karela and slice.\\nDo not remove the skin as the skin has all the nutrients.\\nAdd the karela to the pressure cooker with 3 tablespoon of water, salt and turmeric powder and pressure cook for three whistles.\\nRelease the pressure immediately and open the lids.\\nKeep aside.Heat oil in a heavy bottomed pan or a kadhai.\\nAdd cumin seeds and let it sizzle.Once the cumin seeds have sizzled, add onions and saute them till it turns golden brown in color.Add the karela, red chilli powder, amchur powder, coriander powder and besan.\\nStir to combine the masalas into the karela.Drizzle a little extra oil on the top and mix again.\\nCover the pan and simmer Masala Karela stirring occasionally until everything comes together well.\\nTurn off the heat.Transfer Masala Karela into a serving bowl and serve.Serve Masala Karela along with Panchmel Dal and Phulka for a weekday meal with your family.\\n'"
            ],
            "application/vnd.google.colaboratory.intrinsic+json": {
              "type": "string"
            }
          },
          "metadata": {},
          "execution_count": 7
        }
      ],
      "source": [
        "df.TranslatedInstructions[0]"
      ]
    },
    {
      "cell_type": "code",
      "execution_count": 8,
      "id": "4b6e8ebc",
      "metadata": {
        "colab": {
          "base_uri": "https://localhost:8080/",
          "height": 139
        },
        "id": "4b6e8ebc",
        "outputId": "9948698e-7e34-4789-d98a-13ab5aced5a4"
      },
      "outputs": [
        {
          "output_type": "execute_result",
          "data": {
            "text/plain": [
              "'To begin making the Masala Karela Recipe de seed the karela and slice \\nDo not remove the skin as the skin has all the nutrients \\nAdd the karela to the pressure cooker with 3 tablespoon of water  salt and turmeric powder and pressure cook for three whistles \\nRelease the pressure immediately and open the lids \\nKeep aside Heat oil in a heavy bottomed pan or a kadhai \\nAdd cumin seeds and let it sizzle Once the cumin seeds have sizzled  add onions and saute them till it turns golden brown in color Add the karela  red chilli powder  amchur powder  coriander powder and besan \\nStir to combine the masalas into the karela Drizzle a little extra oil on the top and mix again \\nCover the pan and simmer Masala Karela stirring occasionally until everything comes together well \\nTurn off the heat Transfer Masala Karela into a serving bowl and serve Serve Masala Karela along with Panchmel Dal and Phulka for a weekday meal with your family \\n'"
            ],
            "application/vnd.google.colaboratory.intrinsic+json": {
              "type": "string"
            }
          },
          "metadata": {},
          "execution_count": 8
        }
      ],
      "source": [
        "import re\n",
        "\n",
        "text = 'To begin making the Masala Karela Recipe,de-seed the karela and slice.\\nDo not remove the skin as the skin has all the nutrients.\\nAdd the karela to the pressure cooker with 3 tablespoon of water, salt and turmeric powder and pressure cook for three whistles.\\nRelease the pressure immediately and open the lids.\\nKeep aside.Heat oil in a heavy bottomed pan or a kadhai.\\nAdd cumin seeds and let it sizzle.Once the cumin seeds have sizzled, add onions and saute them till it turns golden brown in color.Add the karela, red chilli powder, amchur powder, coriander powder and besan.\\nStir to combine the masalas into the karela.Drizzle a little extra oil on the top and mix again.\\nCover the pan and simmer Masala Karela stirring occasionally until everything comes together well.\\nTurn off the heat.Transfer Masala Karela into a serving bowl and serve.Serve Masala Karela along with Panchmel Dal and Phulka for a weekday meal with your family.\\n'\n",
        "\n",
        "re.sub(r\"[^\\w\\s]\", \" \", text, flags=re.MULTILINE)"
      ]
    },
    {
      "cell_type": "code",
      "execution_count": 9,
      "id": "4ea1873a",
      "metadata": {
        "id": "4ea1873a"
      },
      "outputs": [],
      "source": [
        "def preprocess(text):\n",
        "    text = re.sub(r'[^\\w\\s\\']',' ', text)\n",
        "    text = re.sub(r'[ \\n]+', ' ', text)\n",
        "    return text.strip().lower()"
      ]
    },
    {
      "cell_type": "code",
      "execution_count": 10,
      "id": "c6c0b732",
      "metadata": {
        "colab": {
          "base_uri": "https://localhost:8080/",
          "height": 139
        },
        "id": "c6c0b732",
        "outputId": "ee9830bc-053e-482b-d158-c70e6f054032"
      },
      "outputs": [
        {
          "output_type": "execute_result",
          "data": {
            "text/plain": [
              "'to begin making the masala karela recipe de seed the karela and slice do not remove the skin as the skin has all the nutrients add the karela to the pressure cooker with 3 tablespoon of water salt and turmeric powder and pressure cook for three whistles release the pressure immediately and open the lids keep aside heat oil in a heavy bottomed pan or a kadhai add cumin seeds and let it sizzle once the cumin seeds have sizzled add onions and saute them till it turns golden brown in color add the karela red chilli powder amchur powder coriander powder and besan stir to combine the masalas into the karela drizzle a little extra oil on the top and mix again cover the pan and simmer masala karela stirring occasionally until everything comes together well turn off the heat transfer masala karela into a serving bowl and serve serve masala karela along with panchmel dal and phulka for a weekday meal with your family'"
            ],
            "application/vnd.google.colaboratory.intrinsic+json": {
              "type": "string"
            }
          },
          "metadata": {},
          "execution_count": 10
        }
      ],
      "source": [
        "text = 'To begin making the Masala Karela Recipe,de-seed the karela and slice.\\nDo not remove the skin as the skin has all the nutrients.\\nAdd the karela to the pressure cooker with 3 tablespoon of water, salt and turmeric powder and pressure cook for three whistles.\\nRelease the pressure immediately and open the lids.\\nKeep aside.Heat oil in a heavy bottomed pan or a kadhai.\\nAdd cumin seeds and let it sizzle.Once the cumin seeds have sizzled, add onions and saute them till it turns golden brown in color.Add the karela, red chilli powder, amchur powder, coriander powder and besan.\\nStir to combine the masalas into the karela.Drizzle a little extra oil on the top and mix again.\\nCover the pan and simmer Masala Karela stirring occasionally until everything comes together well.\\nTurn off the heat.Transfer Masala Karela into a serving bowl and serve.Serve Masala Karela along with Panchmel Dal and Phulka for a weekday meal with your family.\\n'\n",
        "\n",
        "preprocess(text)"
      ]
    },
    {
      "cell_type": "code",
      "execution_count": 11,
      "id": "c9310abd",
      "metadata": {
        "id": "c9310abd"
      },
      "outputs": [],
      "source": [
        "df.TranslatedInstructions = df.TranslatedInstructions.map(preprocess)"
      ]
    },
    {
      "cell_type": "code",
      "execution_count": 12,
      "id": "f234531f",
      "metadata": {
        "colab": {
          "base_uri": "https://localhost:8080/",
          "height": 139
        },
        "id": "f234531f",
        "outputId": "a179a313-bf98-4ce3-f4a6-5a6f40f9b98a"
      },
      "outputs": [
        {
          "output_type": "execute_result",
          "data": {
            "text/plain": [
              "'to begin making the masala karela recipe de seed the karela and slice do not remove the skin as the skin has all the nutrients add the karela to the pressure cooker with 3 tablespoon of water salt and turmeric powder and pressure cook for three whistles release the pressure immediately and open the lids keep aside heat oil in a heavy bottomed pan or a kadhai add cumin seeds and let it sizzle once the cumin seeds have sizzled add onions and saute them till it turns golden brown in color add the karela red chilli powder amchur powder coriander powder and besan stir to combine the masalas into the karela drizzle a little extra oil on the top and mix again cover the pan and simmer masala karela stirring occasionally until everything comes together well turn off the heat transfer masala karela into a serving bowl and serve serve masala karela along with panchmel dal and phulka for a weekday meal with your family'"
            ],
            "application/vnd.google.colaboratory.intrinsic+json": {
              "type": "string"
            }
          },
          "metadata": {},
          "execution_count": 12
        }
      ],
      "source": [
        "df.TranslatedInstructions[0]"
      ]
    },
    {
      "cell_type": "code",
      "execution_count": 13,
      "id": "b0ee507b",
      "metadata": {
        "id": "b0ee507b"
      },
      "outputs": [],
      "source": [
        "df.to_csv(\"food_receipes.txt\", columns=[\"TranslatedInstructions\"], header=None, index=False)"
      ]
    },
    {
      "cell_type": "code",
      "execution_count": 14,
      "id": "fae5ac1c",
      "metadata": {
        "id": "fae5ac1c"
      },
      "outputs": [],
      "source": [
        "import fasttext\n",
        "\n",
        "model = fasttext.train_unsupervised(\"food_receipes.txt\")"
      ]
    },
    {
      "cell_type": "code",
      "execution_count": 15,
      "id": "84debf5a",
      "metadata": {
        "scrolled": true,
        "colab": {
          "base_uri": "https://localhost:8080/"
        },
        "id": "84debf5a",
        "outputId": "917fed16-2ba4-48b8-c5e1-81436c6d4948"
      },
      "outputs": [
        {
          "output_type": "execute_result",
          "data": {
            "text/plain": [
              "[(0.7046746611595154, 'tikka'),\n",
              " (0.6630706191062927, 'tikkas'),\n",
              " (0.6622522473335266, 'tandoori'),\n",
              " (0.6518504619598389, 'bhurji'),\n",
              " (0.6466901302337646, 'reshmi'),\n",
              " (0.6369193196296692, 'nawabi'),\n",
              " (0.6190375685691833, 'makhanwala'),\n",
              " (0.6179590821266174, 'hariyali'),\n",
              " (0.6143130660057068, 'makhani'),\n",
              " (0.5987952351570129, 'malai')]"
            ]
          },
          "metadata": {},
          "execution_count": 15
        }
      ],
      "source": [
        "model.get_nearest_neighbors(\"paneer\")"
      ]
    },
    {
      "cell_type": "code",
      "execution_count": 16,
      "id": "f936a8bf",
      "metadata": {
        "colab": {
          "base_uri": "https://localhost:8080/"
        },
        "id": "f936a8bf",
        "outputId": "ffed4f6d-e278-4797-fb82-561a84fd08da"
      },
      "outputs": [
        {
          "output_type": "execute_result",
          "data": {
            "text/plain": [
              "[(0.9275704622268677, 'chutneys'),\n",
              " (0.7463748455047607, 'dhaniya'),\n",
              " (0.7132056951522827, 'imli'),\n",
              " (0.7042087316513062, 'khajur'),\n",
              " (0.6639349460601807, 'kanchipuram'),\n",
              " (0.6590506434440613, 'pudina'),\n",
              " (0.6549491286277771, 'gothsu'),\n",
              " (0.6544407606124878, 'chammanthi'),\n",
              " (0.6525646448135376, 'south'),\n",
              " (0.6511055827140808, 'madurai')]"
            ]
          },
          "metadata": {},
          "execution_count": 16
        }
      ],
      "source": [
        "model.get_nearest_neighbors(\"chutney\")"
      ]
    },
    {
      "cell_type": "code",
      "execution_count": 17,
      "id": "fb75dcf0",
      "metadata": {
        "colab": {
          "base_uri": "https://localhost:8080/"
        },
        "id": "fb75dcf0",
        "outputId": "02d4f031-3cb8-43b5-b74c-11752a57d836"
      },
      "outputs": [
        {
          "output_type": "execute_result",
          "data": {
            "text/plain": [
              "[(0.7467402815818787, 'khoya'),\n",
              " (0.7186369299888611, 'burfi'),\n",
              " (0.7104381322860718, 'rabri'),\n",
              " (0.6857462525367737, 'mawa'),\n",
              " (0.6752265095710754, 'badam'),\n",
              " (0.672613799571991, 'sheera'),\n",
              " (0.6673717498779297, 'kheer'),\n",
              " (0.6628114581108093, 'mohan'),\n",
              " (0.6588674187660217, 'basundi'),\n",
              " (0.6500763297080994, 'doodh')]"
            ]
          },
          "metadata": {},
          "execution_count": 17
        }
      ],
      "source": [
        "model.get_nearest_neighbors(\"halwa\")"
      ]
    },
    {
      "cell_type": "code",
      "execution_count": 18,
      "id": "79ad1c5f",
      "metadata": {
        "colab": {
          "base_uri": "https://localhost:8080/"
        },
        "id": "79ad1c5f",
        "outputId": "8eff28d0-0eb2-4a31-c4a2-d17120d863f6"
      },
      "outputs": [
        {
          "output_type": "execute_result",
          "data": {
            "text/plain": [
              "[(0.8473756909370422, 'dosai'),\n",
              " (0.8177902698516846, 'dosas'),\n",
              " (0.7941131591796875, \"dosa's\"),\n",
              " (0.7563254237174988, 'uthappam'),\n",
              " (0.7445687055587769, 'uttapam'),\n",
              " (0.7228896021842957, 'kanchipuram'),\n",
              " (0.7157869338989258, 'dose'),\n",
              " (0.7090448141098022, 'neer'),\n",
              " (0.7085314393043518, 'pesarattu'),\n",
              " (0.7060192227363586, 'chembaruthi')]"
            ]
          },
          "metadata": {},
          "execution_count": 18
        }
      ],
      "source": [
        "model.get_nearest_neighbors(\"dosa\")"
      ]
    },
    {
      "cell_type": "code",
      "execution_count": 19,
      "id": "617f1a48",
      "metadata": {
        "scrolled": true,
        "colab": {
          "base_uri": "https://localhost:8080/"
        },
        "id": "617f1a48",
        "outputId": "38430fce-f25f-4edf-e9ff-eb4813c64aaf"
      },
      "outputs": [
        {
          "output_type": "execute_result",
          "data": {
            "text/plain": [
              "[(0.7587465047836304, 'sprouted'),\n",
              " (0.7246676683425903, 'moth'),\n",
              " (0.7035178542137146, 'horse'),\n",
              " (0.6858246326446533, 'mooga'),\n",
              " (0.6832014918327332, 'horsegram'),\n",
              " (0.6807715892791748, 'dal'),\n",
              " (0.6562758684158325, 'moolangi'),\n",
              " (0.6540908217430115, 'sprout'),\n",
              " (0.6464773416519165, 'moongphali'),\n",
              " (0.6430541276931763, 'tuvar')]"
            ]
          },
          "metadata": {},
          "execution_count": 19
        }
      ],
      "source": [
        "model.get_nearest_neighbors(\"moong\")"
      ]
    },
    {
      "cell_type": "code",
      "execution_count": 20,
      "id": "71852e1c",
      "metadata": {
        "colab": {
          "base_uri": "https://localhost:8080/"
        },
        "id": "71852e1c",
        "outputId": "482968c3-7038-451a-8eda-2fddea46a4da"
      },
      "outputs": [
        {
          "output_type": "execute_result",
          "data": {
            "text/plain": [
              "(100,)"
            ]
          },
          "metadata": {},
          "execution_count": 20
        }
      ],
      "source": [
        "model.get_word_vector(\"dosa\").shape"
      ]
    },
    {
      "cell_type": "code",
      "execution_count": 21,
      "id": "924e3d8d",
      "metadata": {
        "colab": {
          "base_uri": "https://localhost:8080/"
        },
        "id": "924e3d8d",
        "outputId": "90a7d88a-29fa-4feb-c952-378b5319ec2c"
      },
      "outputs": [
        {
          "output_type": "execute_result",
          "data": {
            "text/plain": [
              "[(0.8921212553977966, 'fansi'),\n",
              " (0.8687644004821777, 'bhoplya'),\n",
              " (0.8530213832855225, 'phanu'),\n",
              " (0.8452553749084473, 'agathi'),\n",
              " (0.8449345827102661, 'saagu'),\n",
              " (0.8402233719825745, 'sookhi'),\n",
              " (0.8388527631759644, 'vaangi'),\n",
              " (0.8383015394210815, 'bhuga'),\n",
              " (0.8374607563018799, 'sukhi'),\n",
              " (0.8336049318313599, 'phalguni')]"
            ]
          },
          "metadata": {},
          "execution_count": 21
        }
      ],
      "source": [
        "model.get_nearest_neighbors(\"saragva\")"
      ]
    },
    {
      "cell_type": "markdown",
      "id": "5b0b7e80",
      "metadata": {
        "id": "5b0b7e80"
      },
      "source": [
        "https://fasttext.cc/docs/en/unsupervised-tutorial.html for details on parameters in train_unsupervised function. Based on the need one can use following parameters for fine tunning,\n",
        "\n",
        "1. epochs = Default value is 5. Epoch is how many times it will loop over the same dataset for the training\n",
        "2. lr = Learning rate\n",
        "3. thread = Number of threads for the training"
      ]
    }
  ],
  "metadata": {
    "kernelspec": {
      "display_name": "Python 3",
      "name": "python3"
    },
    "language_info": {
      "codemirror_mode": {
        "name": "ipython",
        "version": 3
      },
      "file_extension": ".py",
      "mimetype": "text/x-python",
      "name": "python",
      "nbconvert_exporter": "python",
      "pygments_lexer": "ipython3",
      "version": "3.11.10"
    },
    "colab": {
      "provenance": [],
      "gpuType": "T4"
    },
    "accelerator": "GPU"
  },
  "nbformat": 4,
  "nbformat_minor": 5
}