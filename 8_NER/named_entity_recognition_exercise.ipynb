{
 "cells": [
  {
   "cell_type": "markdown",
   "metadata": {
    "id": "ibF7pjNyhBrR"
   },
   "source": [
    "###                     **Named Entity Recognition (NER): Exercises**"
   ]
  },
  {
   "cell_type": "code",
   "execution_count": 1,
   "metadata": {
    "id": "liI13P5Eg_w-"
   },
   "outputs": [],
   "source": [
    "#importing necessary libraries \n",
    "import spacy\n",
    "\n",
    "nlp = spacy.load(\"en_core_web_sm\")  #creating an object and loading the pre-trained model for \"English\""
   ]
  },
  {
   "cell_type": "markdown",
   "metadata": {
    "id": "LFR-Ep2DhXXa"
   },
   "source": [
    "#### **Excersie: 1**\n",
    "\n",
    "- Extract all the Geographical (cities, Countries, states) names from a given text"
   ]
  },
  {
   "cell_type": "code",
   "execution_count": 7,
   "metadata": {
    "colab": {
     "base_uri": "https://localhost:8080/"
    },
    "id": "HgYXmU3phKbg",
    "outputId": "ff6b90e8-ee46-4017-b185-c7b53f65d625"
   },
   "outputs": [
    {
     "name": "stdout",
     "output_type": "stream",
     "text": [
      "Kiran  |  GPE  |  Countries, cities, states\n",
      "India  |  GPE  |  Countries, cities, states\n",
      "Delhi  |  GPE  |  Countries, cities, states\n",
      "Gujarat  |  GPE  |  Countries, cities, states\n",
      "Tamilnadu  |  GPE  |  Countries, cities, states\n",
      "Andhrapradesh  |  GPE  |  Countries, cities, states\n",
      "Assam  |  GPE  |  Countries, cities, states\n",
      "Bihar  |  GPE  |  Countries, cities, states\n"
     ]
    }
   ],
   "source": [
    "text = \"\"\"Kiran want to know the famous foods in each state of India. So, he opened Google and search for this question. Google showed that\n",
    "in Delhi it is Chaat, in Gujarat it is Dal Dhokli, in Tamilnadu it is Pongal, in Andhrapradesh it is Biryani, in Assam it is Papaya Khar,\n",
    "in Bihar it is Litti Chowkha and so on for all other states\"\"\"\n",
    "\n",
    "doc = nlp(text)\n",
    "for ent in doc.ents:\n",
    "    if ent.label_ == 'GPE':\n",
    "        print(ent.text, \" | \", ent.label_, \" | \", spacy.explain(ent.label_))"
   ]
  },
  {
   "cell_type": "code",
   "execution_count": 8,
   "metadata": {},
   "outputs": [
    {
     "data": {
      "text/plain": [
       "Kiran"
      ]
     },
     "execution_count": 8,
     "metadata": {},
     "output_type": "execute_result"
    }
   ],
   "source": [
    "doc[0]"
   ]
  },
  {
   "cell_type": "code",
   "execution_count": 9,
   "metadata": {},
   "outputs": [],
   "source": [
    "from spacy.tokens import Span\n",
    "\n",
    "s1 = Span(doc, 0, 1, label=\"PERSON\")\n",
    "\n",
    "doc.set_ents([s1], default=\"unmodified\")"
   ]
  },
  {
   "cell_type": "code",
   "execution_count": null,
   "metadata": {},
   "outputs": [
    {
     "name": "stdout",
     "output_type": "stream",
     "text": [
      "India  |  GPE  |  Countries, cities, states\n",
      "Delhi  |  GPE  |  Countries, cities, states\n",
      "Gujarat  |  GPE  |  Countries, cities, states\n",
      "Tamilnadu  |  GPE  |  Countries, cities, states\n",
      "Andhrapradesh  |  GPE  |  Countries, cities, states\n",
      "Assam  |  GPE  |  Countries, cities, states\n",
      "Bihar  |  GPE  |  Countries, cities, states\n"
     ]
    }
   ],
   "source": [
    "geographic = []\n",
    "for ent in doc.ents:\n",
    "    if ent.label_ == 'GPE':\n",
    "        print(ent.text, \" | \", ent.label_, \" | \", spacy.explain(ent.label_))\n",
    "        geographic.append(ent.text)"
   ]
  },
  {
   "cell_type": "code",
   "execution_count": null,
   "metadata": {},
   "outputs": [
    {
     "data": {
      "text/plain": [
       "['India', 'Delhi', 'Gujarat', 'Tamilnadu', 'Andhrapradesh', 'Assam', 'Bihar']"
      ]
     },
     "execution_count": 12,
     "metadata": {},
     "output_type": "execute_result"
    }
   ],
   "source": [
    "geographic"
   ]
  },
  {
   "cell_type": "markdown",
   "metadata": {},
   "source": [
    "**Expected Output:**\n",
    "\n",
    "Geographical location Names:  [India, Delhi, Gujarat, Tamilnadu, Andhrapradesh, Assam, Bihar]\n",
    "\n",
    "Count:  7"
   ]
  },
  {
   "cell_type": "markdown",
   "metadata": {
    "id": "fJT4UnUYkpSP"
   },
   "source": [
    "#### **Excersie: 2**\n",
    "\n",
    "- Extract all the birth dates of cricketers in the given Text"
   ]
  },
  {
   "cell_type": "code",
   "execution_count": 13,
   "metadata": {
    "colab": {
     "base_uri": "https://localhost:8080/"
    },
    "id": "pOMngJ2chKda",
    "outputId": "bbfb7cd5-3088-4503-8d94-aa263aac0608"
   },
   "outputs": [],
   "source": [
    "text = \"\"\"Sachin Tendulkar was born on 24 April 1973, Virat Kholi was born on 5 November 1988, Dhoni was born on 7 July 1981\n",
    "and finally Ricky ponting was born on 19 December 1974.\"\"\"\n",
    "\n",
    "doc = nlp(text)"
   ]
  },
  {
   "cell_type": "code",
   "execution_count": 15,
   "metadata": {},
   "outputs": [
    {
     "name": "stdout",
     "output_type": "stream",
     "text": [
      "24 April 1973  |  DATE  |  Absolute or relative dates or periods\n",
      "5 November 1988  |  DATE  |  Absolute or relative dates or periods\n",
      "7 July 1981  |  DATE  |  Absolute or relative dates or periods\n",
      "19 December 1974  |  DATE  |  Absolute or relative dates or periods\n"
     ]
    }
   ],
   "source": [
    "birth_date = []\n",
    "for ent in doc.ents:\n",
    "    if ent.label_ == 'DATE':\n",
    "        print(ent.text, \" | \", ent.label_, \" | \", spacy.explain(ent.label_))\n",
    "        birth_date.append(ent.text)"
   ]
  },
  {
   "cell_type": "code",
   "execution_count": 16,
   "metadata": {},
   "outputs": [
    {
     "data": {
      "text/plain": [
       "['24 April 1973', '5 November 1988', '7 July 1981', '19 December 1974']"
      ]
     },
     "execution_count": 16,
     "metadata": {},
     "output_type": "execute_result"
    }
   ],
   "source": [
    "birth_date"
   ]
  },
  {
   "cell_type": "markdown",
   "metadata": {},
   "source": [
    "**Expected Output:**\n",
    "\n",
    "All Birth Dates:  [24 April 1973, 5 November 1988, 7 July 1981, 19 December 1974]\n",
    "\n",
    "Count:  4"
   ]
  },
  {
   "cell_type": "markdown",
   "metadata": {},
   "source": [
    "## [Solution](./named_entity_recognition_solutions.ipynb)"
   ]
  }
 ],
 "metadata": {
  "colab": {
   "collapsed_sections": [],
   "name": "Named Entity Recognition (NER).ipynb",
   "provenance": []
  },
  "kernelspec": {
   "display_name": "langgraph",
   "language": "python",
   "name": "python3"
  },
  "language_info": {
   "codemirror_mode": {
    "name": "ipython",
    "version": 3
   },
   "file_extension": ".py",
   "mimetype": "text/x-python",
   "name": "python",
   "nbconvert_exporter": "python",
   "pygments_lexer": "ipython3",
   "version": "3.11.10"
  }
 },
 "nbformat": 4,
 "nbformat_minor": 1
}
